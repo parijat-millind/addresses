{
 "cells": [
  {
   "cell_type": "code",
   "execution_count": 9,
   "metadata": {},
   "outputs": [
    {
     "data": {
      "text/html": [
       "<div>\n",
       "<style scoped>\n",
       "    .dataframe tbody tr th:only-of-type {\n",
       "        vertical-align: middle;\n",
       "    }\n",
       "\n",
       "    .dataframe tbody tr th {\n",
       "        vertical-align: top;\n",
       "    }\n",
       "\n",
       "    .dataframe thead th {\n",
       "        text-align: right;\n",
       "    }\n",
       "</style>\n",
       "<table border=\"1\" class=\"dataframe\">\n",
       "  <thead>\n",
       "    <tr style=\"text-align: right;\">\n",
       "      <th></th>\n",
       "      <th>street</th>\n",
       "      <th>city</th>\n",
       "      <th>postcode</th>\n",
       "      <th>state</th>\n",
       "      <th>country</th>\n",
       "    </tr>\n",
       "  </thead>\n",
       "  <tbody>\n",
       "    <tr>\n",
       "      <th>0</th>\n",
       "      <td>EASTBURN RD</td>\n",
       "      <td>STRAFFORD</td>\n",
       "      <td>05072</td>\n",
       "      <td>VERMONT</td>\n",
       "      <td>USA</td>\n",
       "    </tr>\n",
       "    <tr>\n",
       "      <th>1</th>\n",
       "      <td>CATKIN DR</td>\n",
       "      <td>SOUTH BURLINGTON</td>\n",
       "      <td>05403</td>\n",
       "      <td>VERMONT</td>\n",
       "      <td>USA</td>\n",
       "    </tr>\n",
       "    <tr>\n",
       "      <th>2</th>\n",
       "      <td>POMFRET RD</td>\n",
       "      <td>POMFRET</td>\n",
       "      <td>05084</td>\n",
       "      <td>VERMONT</td>\n",
       "      <td>USA</td>\n",
       "    </tr>\n",
       "    <tr>\n",
       "      <th>3</th>\n",
       "      <td>PARKER RD</td>\n",
       "      <td>VERSHIRE</td>\n",
       "      <td>05079</td>\n",
       "      <td>VERMONT</td>\n",
       "      <td>USA</td>\n",
       "    </tr>\n",
       "    <tr>\n",
       "      <th>4</th>\n",
       "      <td>MOUNTAIN RD</td>\n",
       "      <td>MONTGOMERY</td>\n",
       "      <td>05471</td>\n",
       "      <td>VERMONT</td>\n",
       "      <td>USA</td>\n",
       "    </tr>\n",
       "    <tr>\n",
       "      <th>5</th>\n",
       "      <td>ASPEN CIR</td>\n",
       "      <td>SHELBURNE</td>\n",
       "      <td>05482</td>\n",
       "      <td>VERMONT</td>\n",
       "      <td>USA</td>\n",
       "    </tr>\n",
       "    <tr>\n",
       "      <th>6</th>\n",
       "      <td>MONUMENT HILL RD</td>\n",
       "      <td>HUBBARDTON</td>\n",
       "      <td>05735</td>\n",
       "      <td>VERMONT</td>\n",
       "      <td>USA</td>\n",
       "    </tr>\n",
       "    <tr>\n",
       "      <th>7</th>\n",
       "      <td>GEORGIA MIDDLE RD</td>\n",
       "      <td>GEORGIA</td>\n",
       "      <td>05478</td>\n",
       "      <td>VERMONT</td>\n",
       "      <td>USA</td>\n",
       "    </tr>\n",
       "    <tr>\n",
       "      <th>8</th>\n",
       "      <td>SLATE LEDGE RD</td>\n",
       "      <td>WATERFORD</td>\n",
       "      <td>05819</td>\n",
       "      <td>VERMONT</td>\n",
       "      <td>USA</td>\n",
       "    </tr>\n",
       "    <tr>\n",
       "      <th>9</th>\n",
       "      <td>ALPINE DR</td>\n",
       "      <td>MOUNT HOLLY</td>\n",
       "      <td>05758</td>\n",
       "      <td>VERMONT</td>\n",
       "      <td>USA</td>\n",
       "    </tr>\n",
       "  </tbody>\n",
       "</table>\n",
       "</div>"
      ],
      "text/plain": [
       "              street              city postcode    state country\n",
       "0        EASTBURN RD         STRAFFORD    05072  VERMONT     USA\n",
       "1          CATKIN DR  SOUTH BURLINGTON    05403  VERMONT     USA\n",
       "2         POMFRET RD           POMFRET    05084  VERMONT     USA\n",
       "3          PARKER RD          VERSHIRE    05079  VERMONT     USA\n",
       "4        MOUNTAIN RD        MONTGOMERY    05471  VERMONT     USA\n",
       "5          ASPEN CIR         SHELBURNE    05482  VERMONT     USA\n",
       "6   MONUMENT HILL RD        HUBBARDTON    05735  VERMONT     USA\n",
       "7  GEORGIA MIDDLE RD           GEORGIA    05478  VERMONT     USA\n",
       "8     SLATE LEDGE RD         WATERFORD    05819  VERMONT     USA\n",
       "9          ALPINE DR       MOUNT HOLLY    05758  VERMONT     USA"
      ]
     },
     "execution_count": 9,
     "metadata": {},
     "output_type": "execute_result"
    }
   ],
   "source": [
    "import json\n",
    "import pandas as pd\n",
    "\n",
    "# Open the file and read it line by line\n",
    "address_list = []\n",
    "with open(\"statewide-addresses-state.geojson\", \"r\", encoding=\"utf-8\") as file:\n",
    "    for line in file:\n",
    "        try:\n",
    "            feature = json.loads(line.strip())  # Load each line as a separate JSON object\n",
    "            address_list.append({\n",
    "                \"street\": feature[\"properties\"].get(\"street\", \"\"),\n",
    "                \"city\": feature[\"properties\"].get(\"city\", \"\"),\n",
    "                \"postcode\": feature[\"properties\"].get(\"postcode\", \"\"),\n",
    "                \"state\": \"VERMONT\",\n",
    "                \"country\": \"USA\"\n",
    "            })\n",
    "        except json.JSONDecodeError as e:\n",
    "            print(f\"Skipping invalid line: {e}\")\n",
    "\n",
    "# Convert to DataFrame\n",
    "df = pd.DataFrame(address_list)\n",
    "\n",
    "# Display the extracted data\n",
    "df.head(10)\n"
   ]
  },
  {
   "cell_type": "code",
   "execution_count": 10,
   "metadata": {},
   "outputs": [
    {
     "data": {
      "text/plain": [
       "(351096, 5)"
      ]
     },
     "execution_count": 10,
     "metadata": {},
     "output_type": "execute_result"
    }
   ],
   "source": [
    "df.shape"
   ]
  },
  {
   "cell_type": "code",
   "execution_count": 16,
   "metadata": {},
   "outputs": [],
   "source": [
    "# remove records with null or empty values in \"postcode\"\n",
    "df = df[df[\"postcode\"].notnull() & (df[\"postcode\"] != \"\")]\n",
    "\n"
   ]
  },
  {
   "cell_type": "code",
   "execution_count": 17,
   "metadata": {},
   "outputs": [
    {
     "data": {
      "text/plain": [
       "(0, 5)"
      ]
     },
     "execution_count": 17,
     "metadata": {},
     "output_type": "execute_result"
    }
   ],
   "source": [
    "df.shape"
   ]
  },
  {
   "cell_type": "code",
   "execution_count": 11,
   "metadata": {},
   "outputs": [
    {
     "data": {
      "text/plain": [
       "(29355, 5)"
      ]
     },
     "execution_count": 11,
     "metadata": {},
     "output_type": "execute_result"
    }
   ],
   "source": [
    "\n",
    "\n",
    "df_unique = df.drop_duplicates()\n",
    "\n",
    "df_unique.shape"
   ]
  },
  {
   "cell_type": "code",
   "execution_count": 12,
   "metadata": {},
   "outputs": [],
   "source": [
    "df_unique.to_csv(\"vermont.csv\", index=False)"
   ]
  },
  {
   "cell_type": "code",
   "execution_count": 13,
   "metadata": {},
   "outputs": [
    {
     "data": {
      "text/html": [
       "<div>\n",
       "<style scoped>\n",
       "    .dataframe tbody tr th:only-of-type {\n",
       "        vertical-align: middle;\n",
       "    }\n",
       "\n",
       "    .dataframe tbody tr th {\n",
       "        vertical-align: top;\n",
       "    }\n",
       "\n",
       "    .dataframe thead th {\n",
       "        text-align: right;\n",
       "    }\n",
       "</style>\n",
       "<table border=\"1\" class=\"dataframe\">\n",
       "  <thead>\n",
       "    <tr style=\"text-align: right;\">\n",
       "      <th></th>\n",
       "      <th>street</th>\n",
       "      <th>city</th>\n",
       "      <th>postcode</th>\n",
       "      <th>state</th>\n",
       "      <th>country</th>\n",
       "    </tr>\n",
       "  </thead>\n",
       "  <tbody>\n",
       "    <tr>\n",
       "      <th>0</th>\n",
       "      <td>Fairview Avenue</td>\n",
       "      <td>Orange</td>\n",
       "      <td>7050.0</td>\n",
       "      <td>NEW JERSEY</td>\n",
       "      <td>USA</td>\n",
       "    </tr>\n",
       "    <tr>\n",
       "      <th>1</th>\n",
       "      <td>Smull Avenue</td>\n",
       "      <td>Caldwell</td>\n",
       "      <td>7006.0</td>\n",
       "      <td>NEW JERSEY</td>\n",
       "      <td>USA</td>\n",
       "    </tr>\n",
       "    <tr>\n",
       "      <th>2</th>\n",
       "      <td>Hillside Avenue</td>\n",
       "      <td>Orange</td>\n",
       "      <td>7050.0</td>\n",
       "      <td>NEW JERSEY</td>\n",
       "      <td>USA</td>\n",
       "    </tr>\n",
       "    <tr>\n",
       "      <th>3</th>\n",
       "      <td>Duane Street</td>\n",
       "      <td>Orange</td>\n",
       "      <td>7050.0</td>\n",
       "      <td>NEW JERSEY</td>\n",
       "      <td>USA</td>\n",
       "    </tr>\n",
       "    <tr>\n",
       "      <th>4</th>\n",
       "      <td>North   Essex Avenue</td>\n",
       "      <td>Orange</td>\n",
       "      <td>7050.0</td>\n",
       "      <td>NEW JERSEY</td>\n",
       "      <td>USA</td>\n",
       "    </tr>\n",
       "    <tr>\n",
       "      <th>5</th>\n",
       "      <td>Mechanic Street</td>\n",
       "      <td>Orange</td>\n",
       "      <td>7050.0</td>\n",
       "      <td>NEW JERSEY</td>\n",
       "      <td>USA</td>\n",
       "    </tr>\n",
       "    <tr>\n",
       "      <th>6</th>\n",
       "      <td>Wood Street</td>\n",
       "      <td>Tuckerton</td>\n",
       "      <td>8087.0</td>\n",
       "      <td>NEW JERSEY</td>\n",
       "      <td>USA</td>\n",
       "    </tr>\n",
       "    <tr>\n",
       "      <th>7</th>\n",
       "      <td>Fairway Drive</td>\n",
       "      <td>Tuckerton</td>\n",
       "      <td>8087.0</td>\n",
       "      <td>NEW JERSEY</td>\n",
       "      <td>USA</td>\n",
       "    </tr>\n",
       "    <tr>\n",
       "      <th>8</th>\n",
       "      <td>East   Main Street</td>\n",
       "      <td>Tuckerton</td>\n",
       "      <td>8087.0</td>\n",
       "      <td>NEW JERSEY</td>\n",
       "      <td>USA</td>\n",
       "    </tr>\n",
       "    <tr>\n",
       "      <th>9</th>\n",
       "      <td>Admiral Drive</td>\n",
       "      <td>Tuckerton</td>\n",
       "      <td>8087.0</td>\n",
       "      <td>NEW JERSEY</td>\n",
       "      <td>USA</td>\n",
       "    </tr>\n",
       "  </tbody>\n",
       "</table>\n",
       "</div>"
      ],
      "text/plain": [
       "                 street       city postcode       state country\n",
       "0       Fairview Avenue     Orange   7050.0  NEW JERSEY     USA\n",
       "1          Smull Avenue   Caldwell   7006.0  NEW JERSEY     USA\n",
       "2       Hillside Avenue     Orange   7050.0  NEW JERSEY     USA\n",
       "3          Duane Street     Orange   7050.0  NEW JERSEY     USA\n",
       "4  North   Essex Avenue     Orange   7050.0  NEW JERSEY     USA\n",
       "5       Mechanic Street     Orange   7050.0  NEW JERSEY     USA\n",
       "6           Wood Street  Tuckerton   8087.0  NEW JERSEY     USA\n",
       "7         Fairway Drive  Tuckerton   8087.0  NEW JERSEY     USA\n",
       "8    East   Main Street  Tuckerton   8087.0  NEW JERSEY     USA\n",
       "9         Admiral Drive  Tuckerton   8087.0  NEW JERSEY     USA"
      ]
     },
     "execution_count": 13,
     "metadata": {},
     "output_type": "execute_result"
    }
   ],
   "source": [
    "import pandas as pd\n",
    "import os\n",
    "\n",
    "# Directory containing the CSV files\n",
    "csv_dir = './final'\n",
    "\n",
    "# List to hold DataFrames\n",
    "dfs = []\n",
    "\n",
    "# Iterate over all files in the directory\n",
    "for filename in os.listdir(csv_dir):\n",
    "    if filename.endswith('.csv'):\n",
    "        file_path = os.path.join(csv_dir, filename)\n",
    "        df = pd.read_csv(file_path)\n",
    "        dfs.append(df)\n",
    "\n",
    "# Concatenate all DataFrames\n",
    "merged_df = pd.concat(dfs, ignore_index=True)\n",
    "\n",
    "# Save the merged DataFrame to a new CSV file\n",
    "merged_df.to_csv('merged_output.csv', index=False)\n",
    "\n",
    "# Display the merged DataFrame\n",
    "merged_df.head(10)"
   ]
  },
  {
   "cell_type": "code",
   "execution_count": 14,
   "metadata": {},
   "outputs": [
    {
     "data": {
      "text/plain": [
       "(633430, 5)"
      ]
     },
     "execution_count": 14,
     "metadata": {},
     "output_type": "execute_result"
    }
   ],
   "source": [
    "merged_df.shape"
   ]
  },
  {
   "cell_type": "code",
   "execution_count": 15,
   "metadata": {},
   "outputs": [
    {
     "data": {
      "text/plain": [
       "(633024, 5)"
      ]
     },
     "execution_count": 15,
     "metadata": {},
     "output_type": "execute_result"
    }
   ],
   "source": [
    "merged_df = merged_df[merged_df[\"postcode\"].notnull() & (merged_df[\"postcode\"] != \"\")]\n",
    "merged_df.shape"
   ]
  }
 ],
 "metadata": {
  "kernelspec": {
   "display_name": "Python 3",
   "language": "python",
   "name": "python3"
  },
  "language_info": {
   "codemirror_mode": {
    "name": "ipython",
    "version": 3
   },
   "file_extension": ".py",
   "mimetype": "text/x-python",
   "name": "python",
   "nbconvert_exporter": "python",
   "pygments_lexer": "ipython3",
   "version": "3.12.3"
  }
 },
 "nbformat": 4,
 "nbformat_minor": 2
}
