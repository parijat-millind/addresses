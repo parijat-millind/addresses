{
 "cells": [
  {
   "cell_type": "code",
   "execution_count": 16,
   "metadata": {},
   "outputs": [],
   "source": [
    "import pandas as pd\n",
    "\n",
    "def process_csv(input_file, output_file):\n",
    "    try:\n",
    "        df = pd.read_csv(input_file, low_memory=False, dtype=str)  # Read all as string\n",
    "\n",
    "        # No need to create 'state' and 'country' if you're not using them\n",
    "\n",
    "        # Drop rows where 'street' AND 'postcode' are empty.  Use 'postalcode' to match your request.\n",
    "        df = df.dropna(subset=['STREET', 'POSTCODE'], how='any')\n",
    "\n",
    "        df['STATE']='IOWA'\n",
    "        df['COUNTRY']='USA'\n",
    "        # Select and reorder the desired columns. Use 'postalcode'\n",
    "        df_new = df[['STREET', 'CITY', 'POSTCODE','STATE','COUNTRY']]\n",
    "\n",
    "        print(df_new.shape)\n",
    "        df_new.drop_duplicates(inplace=True)\n",
    "\n",
    "        print(df_new.shape)\n",
    "        print(df_new.head(10)) # Print the head for verification\n",
    "\n",
    "\n",
    "        df_new.to_csv(output_file, index=False)\n",
    "\n",
    "        print(f\"Processed data saved to {output_file}\")\n",
    "        \n",
    "\n",
    "    except FileNotFoundError:\n",
    "        print(f\"Error: Input file '{input_file}' not found.\")\n",
    "    except Exception as e:\n",
    "        print(f\"An error occurred: {e}\")"
   ]
  },
  {
   "cell_type": "code",
   "execution_count": 17,
   "metadata": {},
   "outputs": [
    {
     "name": "stdout",
     "output_type": "stream",
     "text": [
      "(749239, 5)\n",
      "(749239, 5)\n",
      "               STREET           CITY    POSTCODE STATE COUNTRY\n",
      "15075  50th Street Dr  La Porte City  50651-8804  IOWA     USA\n",
      "15076  15th Avenue Dr  La Porte City  50651-9000  IOWA     USA\n",
      "15077         51st St  La Porte City  50651-9020  IOWA     USA\n",
      "15078        14th Ave  La Porte City  50651-9648  IOWA     USA\n",
      "15079        15th Ave  La Porte City  50651-9600  IOWA     USA\n",
      "15080        15th Ave  La Porte City  50651-9600  IOWA     USA\n",
      "15081         53rd St  La Porte City  50651-9014  IOWA     USA\n",
      "15082         52nd St  La Porte City  50651-8800  IOWA     USA\n",
      "15083      Highway 21  La Porte City       50651  IOWA     USA\n",
      "15084        11th Ave  La Porte City  50651-8802  IOWA     USA\n",
      "Processed data saved to iowa.csv\n"
     ]
    }
   ],
   "source": [
    "input_csv = './archive/ia.csv'  # Replace with your input file name\n",
    "output_csv = 'iowa.csv' # Replace with your desired output file name\n",
    "\n",
    "process_csv(input_csv, output_csv)\n"
   ]
  }
 ],
 "metadata": {
  "kernelspec": {
   "display_name": "Python 3",
   "language": "python",
   "name": "python3"
  },
  "language_info": {
   "codemirror_mode": {
    "name": "ipython",
    "version": 3
   },
   "file_extension": ".py",
   "mimetype": "text/x-python",
   "name": "python",
   "nbconvert_exporter": "python",
   "pygments_lexer": "ipython3",
   "version": "3.12.3"
  }
 },
 "nbformat": 4,
 "nbformat_minor": 2
}
