{
 "cells": [
  {
   "cell_type": "code",
   "execution_count": 30,
   "metadata": {},
   "outputs": [],
   "source": [
    "import pandas as pd\n",
    "\n",
    "def process_csv(input_file, output_file):\n",
    "    try:\n",
    "        df = pd.read_csv(input_file, low_memory=False, dtype=str)  # Read all as string\n",
    "\n",
    "        # No need to create 'state' and 'country' if you're not using them\n",
    "\n",
    "        # Drop rows where 'street' AND 'postcode' are empty.  Use 'postalcode' to match your request.\n",
    "        df = df.dropna(subset=['STREET', 'POSTCODE','CITY'], how='any')\n",
    "\n",
    "        df['STATE']='WISCONSIN'\n",
    "        df['COUNTRY']='USA'\n",
    "        # Select and reorder the desired columns. Use 'postalcode'\n",
    "        df_new = df[['STREET', 'CITY', 'POSTCODE','STATE','COUNTRY']]\n",
    "\n",
    "        print(df_new.shape)\n",
    "        df=df_new.drop_duplicates()\n",
    "\n",
    "        print(df.shape)\n",
    "        print(df.head(10)) # Print the head for verification\n",
    "\n",
    "\n",
    "        df.to_csv(output_file, index=False)\n",
    "\n",
    "        print(f\"Processed data saved to {output_file}\")\n",
    "        \n",
    "\n",
    "    except FileNotFoundError:\n",
    "        print(f\"Error: Input file '{input_file}' not found.\")\n",
    "    except Exception as e:\n",
    "        print(f\"An error occurred: {e}\")"
   ]
  },
  {
   "cell_type": "code",
   "execution_count": 31,
   "metadata": {},
   "outputs": [
    {
     "name": "stdout",
     "output_type": "stream",
     "text": [
      "(1468211, 5)\n",
      "(109891, 5)\n",
      "                STREET        CITY POSTCODE      STATE COUNTRY\n",
      "23025         KLEIN RD  IRON RIVER    54847  WISCONSIN     USA\n",
      "23026       TEEPEE TRL  IRON RIVER    54847  WISCONSIN     USA\n",
      "23028   E RUTH LAKE RD  IRON RIVER    54847  WISCONSIN     USA\n",
      "23030     COUNTY HWY A  IRON RIVER    54847  WISCONSIN     USA\n",
      "23031  MCCARRY LAKE RD  IRON RIVER    54847  WISCONSIN     USA\n",
      "23032   SOUTH POINT DR  IRON RIVER    54847  WISCONSIN     USA\n",
      "23033   SPIDER LAKE RD  IRON RIVER    54847  WISCONSIN     USA\n",
      "23035     RIVERSIDE RD  IRON RIVER    54847  WISCONSIN     USA\n",
      "23037           LEA ST  IRON RIVER    54847  WISCONSIN     USA\n",
      "23038      ISLAND BLVD  IRON RIVER    54847  WISCONSIN     USA\n",
      "Processed data saved to wisconsin.csv\n"
     ]
    }
   ],
   "source": [
    "input_csv = './archive/wi.csv'  # Replace with your input file name\n",
    "output_csv = 'wisconsin.csv' # Replace with your desired output file name\n",
    "\n",
    "process_csv(input_csv, output_csv)\n"
   ]
  }
 ],
 "metadata": {
  "kernelspec": {
   "display_name": "Python 3",
   "language": "python",
   "name": "python3"
  },
  "language_info": {
   "codemirror_mode": {
    "name": "ipython",
    "version": 3
   },
   "file_extension": ".py",
   "mimetype": "text/x-python",
   "name": "python",
   "nbconvert_exporter": "python",
   "pygments_lexer": "ipython3",
   "version": "3.12.3"
  }
 },
 "nbformat": 4,
 "nbformat_minor": 2
}
